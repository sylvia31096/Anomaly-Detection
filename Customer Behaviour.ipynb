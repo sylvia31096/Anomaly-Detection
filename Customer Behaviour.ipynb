{
 "cells": [
  {
   "cell_type": "markdown",
   "metadata": {},
   "source": [
    "# Customer Behaviour"
   ]
  },
  {
   "cell_type": "markdown",
   "metadata": {},
   "source": [
    "Exploring behaviour of the customer"
   ]
  },
  {
   "cell_type": "code",
   "execution_count": 1,
   "metadata": {},
   "outputs": [],
   "source": [
    "import pandas as pd\n",
    "from matplotlib import pyplot as plt\n",
    "from fbprophet import Prophet\n",
    "from datetime import datetime\n",
    "from sklearn import preprocessing\n",
    "import numpy as np\n",
    "import warnings\n",
    "warnings.filterwarnings('ignore')\n",
    "%matplotlib inline "
   ]
  },
  {
   "cell_type": "markdown",
   "metadata": {},
   "source": [
    "Read the csv files into dataframes. CSV files include deposits,loans taken and all successful purchases of token between January and March 2019.\n",
    "The features include:\n",
    "* ***address***: the mobile number of account\n",
    "* ***amount/transamount***: the total paid or borrowed for loan purchase\n",
    "* ***unit***: the unit of the token\n",
    "* ***transactionid*** : unique identifier for each transaction\n",
    "* ***time/systranstime***: the timestamp of the transaction\n",
    "* ***billrefnumber***:unique identifier for account"
   ]
  },
  {
   "cell_type": "markdown",
   "metadata": {},
   "source": [
    "successfulVends_raw: holds data for successful purchases\n",
    "\n",
    "deposit_raw: holds data for deposits\n",
    "\n",
    "loan_raw: holds data for borrowed amounts to purchase tokens\n",
    "\n",
    "They have been named raw because they contain unrequired features for building the model\n"
   ]
  },
  {
   "cell_type": "code",
   "execution_count": 3,
   "metadata": {},
   "outputs": [],
   "source": [
    "successfulVends_raw = pd.read_csv(\"successfulVENDS2019.csv\")\n",
    "deposit_raw = pd.read_csv(\"deposit2019.csv\")\n",
    "loan_raw = pd.read_csv(\"loan2019.csv\")"
   ]
  },
  {
   "cell_type": "code",
   "execution_count": 5,
   "metadata": {},
   "outputs": [
    {
     "data": {
      "text/html": [
       "<div>\n",
       "<style scoped>\n",
       "    .dataframe tbody tr th:only-of-type {\n",
       "        vertical-align: middle;\n",
       "    }\n",
       "\n",
       "    .dataframe tbody tr th {\n",
       "        vertical-align: top;\n",
       "    }\n",
       "\n",
       "    .dataframe thead th {\n",
       "        text-align: right;\n",
       "    }\n",
       "</style>\n",
       "<table border=\"1\" class=\"dataframe\">\n",
       "  <thead>\n",
       "    <tr style=\"text-align: right;\">\n",
       "      <th></th>\n",
       "      <th>address</th>\n",
       "      <th>amount</th>\n",
       "      <th>tokennumber</th>\n",
       "      <th>unit</th>\n",
       "      <th>transactionid</th>\n",
       "      <th>time</th>\n",
       "    </tr>\n",
       "  </thead>\n",
       "  <tbody>\n",
       "    <tr>\n",
       "      <th>0</th>\n",
       "      <td>254793014571</td>\n",
       "      <td>1</td>\n",
       "      <td>05459259559109124256</td>\n",
       "      <td>0.07</td>\n",
       "      <td>M19010106590000185</td>\n",
       "      <td>2019-01-01 06:59:57</td>\n",
       "    </tr>\n",
       "    <tr>\n",
       "      <th>1</th>\n",
       "      <td>254707547916</td>\n",
       "      <td>300</td>\n",
       "      <td>09013737004580189848</td>\n",
       "      <td>13.85</td>\n",
       "      <td>M19010207402300001</td>\n",
       "      <td>2019-01-02 07:40:31</td>\n",
       "    </tr>\n",
       "    <tr>\n",
       "      <th>2</th>\n",
       "      <td>notfound</td>\n",
       "      <td>100</td>\n",
       "      <td>24470381013794411446</td>\n",
       "      <td>5.28</td>\n",
       "      <td>M19010207410800003</td>\n",
       "      <td>2019-01-02 07:41:16</td>\n",
       "    </tr>\n",
       "    <tr>\n",
       "      <th>3</th>\n",
       "      <td>254721590352</td>\n",
       "      <td>900</td>\n",
       "      <td>26082867802943631820</td>\n",
       "      <td>59.37</td>\n",
       "      <td>M19010207405900002</td>\n",
       "      <td>2019-01-02 07:41:12</td>\n",
       "    </tr>\n",
       "    <tr>\n",
       "      <th>4</th>\n",
       "      <td>notfound</td>\n",
       "      <td>700</td>\n",
       "      <td>21948249622844601730</td>\n",
       "      <td>46.18</td>\n",
       "      <td>M19010207412200004</td>\n",
       "      <td>2019-01-02 10:41:37</td>\n",
       "    </tr>\n",
       "  </tbody>\n",
       "</table>\n",
       "</div>"
      ],
      "text/plain": [
       "        address  amount           tokennumber   unit       transactionid  \\\n",
       "0  254793014571       1  05459259559109124256   0.07  M19010106590000185   \n",
       "1  254707547916     300  09013737004580189848  13.85  M19010207402300001   \n",
       "2      notfound     100  24470381013794411446   5.28  M19010207410800003   \n",
       "3  254721590352     900  26082867802943631820  59.37  M19010207405900002   \n",
       "4      notfound     700  21948249622844601730  46.18  M19010207412200004   \n",
       "\n",
       "                  time  \n",
       "0  2019-01-01 06:59:57  \n",
       "1  2019-01-02 07:40:31  \n",
       "2  2019-01-02 07:41:16  \n",
       "3  2019-01-02 07:41:12  \n",
       "4  2019-01-02 10:41:37  "
      ]
     },
     "execution_count": 5,
     "metadata": {},
     "output_type": "execute_result"
    }
   ],
   "source": [
    "successfulVends_raw.head()"
   ]
  },
  {
   "cell_type": "code",
   "execution_count": 15,
   "metadata": {},
   "outputs": [
    {
     "data": {
      "text/plain": [
       "(42736,)"
      ]
     },
     "execution_count": 15,
     "metadata": {},
     "output_type": "execute_result"
    }
   ],
   "source": [
    "successfulVends_raw[successfulVends_raw.address!='notfound'].address.unique().shape"
   ]
  },
  {
   "cell_type": "code",
   "execution_count": 14,
   "metadata": {},
   "outputs": [
    {
     "data": {
      "text/plain": [
       "(82012,)"
      ]
     },
     "execution_count": 14,
     "metadata": {},
     "output_type": "execute_result"
    }
   ],
   "source": [
    "successfulVends_raw.address.shape"
   ]
  },
  {
   "cell_type": "code",
   "execution_count": null,
   "metadata": {},
   "outputs": [],
   "source": []
  }
 ],
 "metadata": {
  "kernelspec": {
   "display_name": "Python 3",
   "language": "python",
   "name": "python3"
  },
  "language_info": {
   "codemirror_mode": {
    "name": "ipython",
    "version": 3
   },
   "file_extension": ".py",
   "mimetype": "text/x-python",
   "name": "python",
   "nbconvert_exporter": "python",
   "pygments_lexer": "ipython3",
   "version": "3.6.7"
  }
 },
 "nbformat": 4,
 "nbformat_minor": 2
}
