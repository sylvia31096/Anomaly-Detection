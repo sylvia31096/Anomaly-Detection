{
 "cells": [
  {
   "cell_type": "markdown",
   "metadata": {},
   "source": [
    "This notebook has models to make predictions based on customer's "
   ]
  },
  {
   "cell_type": "code",
   "execution_count": 1,
   "metadata": {},
   "outputs": [],
   "source": [
    "import pandas as pd\n",
    "from matplotlib import pyplot as plt\n",
    "from fbprophet import Prophet\n",
    "from datetime import datetime\n",
    "from sklearn import preprocessing\n",
    "import numpy as np\n",
    "import seaborn as sns\n",
    "import warnings\n",
    "warnings.filterwarnings('ignore')\n",
    "from sklearn.linear_model import LinearRegression\n",
    "from sklearn.model_selection import KFold,GridSearchCV\n",
    "from sklearn.metrics import r2_score\n",
    "from sklearn import preprocessing\n",
    "from mlxtend.regressor import StackingRegressor\n",
    "%matplotlib inline "
   ]
  },
  {
   "cell_type": "markdown",
   "metadata": {},
   "source": [
    "Has the past amount the customer transacted"
   ]
  },
  {
   "cell_type": "code",
   "execution_count": 2,
   "metadata": {},
   "outputs": [
    {
     "data": {
      "text/html": [
       "<div>\n",
       "<style scoped>\n",
       "    .dataframe tbody tr th:only-of-type {\n",
       "        vertical-align: middle;\n",
       "    }\n",
       "\n",
       "    .dataframe tbody tr th {\n",
       "        vertical-align: top;\n",
       "    }\n",
       "\n",
       "    .dataframe thead th {\n",
       "        text-align: right;\n",
       "    }\n",
       "</style>\n",
       "<table border=\"1\" class=\"dataframe\">\n",
       "  <thead>\n",
       "    <tr style=\"text-align: right;\">\n",
       "      <th></th>\n",
       "      <th>Unnamed: 0</th>\n",
       "      <th>amount</th>\n",
       "      <th>delta</th>\n",
       "      <th>Prev_Amount</th>\n",
       "      <th>day_of_week</th>\n",
       "      <th>day</th>\n",
       "      <th>hour</th>\n",
       "      <th>time</th>\n",
       "    </tr>\n",
       "  </thead>\n",
       "  <tbody>\n",
       "    <tr>\n",
       "      <th>0</th>\n",
       "      <td>0</td>\n",
       "      <td>100.0</td>\n",
       "      <td>0.000706</td>\n",
       "      <td>100.0</td>\n",
       "      <td>0</td>\n",
       "      <td>14</td>\n",
       "      <td>10</td>\n",
       "      <td>2019-01-14 10:41:51</td>\n",
       "    </tr>\n",
       "    <tr>\n",
       "      <th>1</th>\n",
       "      <td>1</td>\n",
       "      <td>300.0</td>\n",
       "      <td>18.370104</td>\n",
       "      <td>300.0</td>\n",
       "      <td>1</td>\n",
       "      <td>19</td>\n",
       "      <td>18</td>\n",
       "      <td>2019-03-19 18:25:51</td>\n",
       "    </tr>\n",
       "    <tr>\n",
       "      <th>2</th>\n",
       "      <td>2</td>\n",
       "      <td>300.0</td>\n",
       "      <td>12.241470</td>\n",
       "      <td>500.0</td>\n",
       "      <td>3</td>\n",
       "      <td>14</td>\n",
       "      <td>12</td>\n",
       "      <td>2019-02-14 12:09:55</td>\n",
       "    </tr>\n",
       "    <tr>\n",
       "      <th>3</th>\n",
       "      <td>3</td>\n",
       "      <td>50.0</td>\n",
       "      <td>2.791481</td>\n",
       "      <td>50.0</td>\n",
       "      <td>6</td>\n",
       "      <td>3</td>\n",
       "      <td>10</td>\n",
       "      <td>2019-03-03 10:28:06</td>\n",
       "    </tr>\n",
       "    <tr>\n",
       "      <th>4</th>\n",
       "      <td>4</td>\n",
       "      <td>50.0</td>\n",
       "      <td>0.966840</td>\n",
       "      <td>50.0</td>\n",
       "      <td>0</td>\n",
       "      <td>28</td>\n",
       "      <td>9</td>\n",
       "      <td>2019-01-28 09:45:53</td>\n",
       "    </tr>\n",
       "  </tbody>\n",
       "</table>\n",
       "</div>"
      ],
      "text/plain": [
       "   Unnamed: 0  amount      delta  Prev_Amount  day_of_week  day  hour  \\\n",
       "0           0   100.0   0.000706        100.0            0   14    10   \n",
       "1           1   300.0  18.370104        300.0            1   19    18   \n",
       "2           2   300.0  12.241470        500.0            3   14    12   \n",
       "3           3    50.0   2.791481         50.0            6    3    10   \n",
       "4           4    50.0   0.966840         50.0            0   28     9   \n",
       "\n",
       "                  time  \n",
       "0  2019-01-14 10:41:51  \n",
       "1  2019-03-19 18:25:51  \n",
       "2  2019-02-14 12:09:55  \n",
       "3  2019-03-03 10:28:06  \n",
       "4  2019-01-28 09:45:53  "
      ]
     },
     "execution_count": 2,
     "metadata": {},
     "output_type": "execute_result"
    }
   ],
   "source": [
    "df = pd.read_csv(\"deposit_new.csv\")\n",
    "df.head()"
   ]
  },
  {
   "cell_type": "markdown",
   "metadata": {},
   "source": [
    "Drop repeated column"
   ]
  },
  {
   "cell_type": "code",
   "execution_count": 3,
   "metadata": {},
   "outputs": [],
   "source": [
    "df = df.drop(df.columns[0],axis=1)"
   ]
  },
  {
   "cell_type": "markdown",
   "metadata": {},
   "source": [
    "Create the features matrix "
   ]
  },
  {
   "cell_type": "code",
   "execution_count": 4,
   "metadata": {},
   "outputs": [],
   "source": [
    "#we do not need time column to train\n",
    "X = df.drop(columns = ['amount','time']).values"
   ]
  },
  {
   "cell_type": "markdown",
   "metadata": {},
   "source": [
    "Create target values matrix"
   ]
  },
  {
   "cell_type": "code",
   "execution_count": 5,
   "metadata": {},
   "outputs": [],
   "source": [
    "y = df.amount.values"
   ]
  },
  {
   "cell_type": "markdown",
   "metadata": {},
   "source": [
    "Create k folds for cross validation"
   ]
  },
  {
   "cell_type": "code",
   "execution_count": 6,
   "metadata": {},
   "outputs": [],
   "source": [
    "kf = KFold(n_splits=10) #10 is my preference (not based on any convention)"
   ]
  },
  {
   "cell_type": "markdown",
   "metadata": {},
   "source": [
    "### Linear Regression"
   ]
  },
  {
   "cell_type": "markdown",
   "metadata": {},
   "source": [
    "Train the dataset and print r2 score"
   ]
  },
  {
   "cell_type": "code",
   "execution_count": 7,
   "metadata": {},
   "outputs": [
    {
     "name": "stdout",
     "output_type": "stream",
     "text": [
      "0.6102850699462631 \t\t\t 0.5028089584774993\n",
      "0.5950288307738565 \t\t\t 0.6648462040869292\n",
      "0.6099521441168312 \t\t\t 0.5252643084849258\n",
      "0.6077003173787157 \t\t\t 0.5449207451076732\n",
      "0.6015953666475478 \t\t\t 0.5982342434580177\n",
      "0.5975108944967753 \t\t\t 0.6292517103460933\n",
      "0.6089521041140025 \t\t\t 0.5202061381864582\n",
      "0.5916795862885154 \t\t\t 0.6850011567667584\n",
      "0.5998353969913205 \t\t\t 0.6169609643147179\n",
      "0.5898606539216443 \t\t\t 0.6832984411971619\n"
     ]
    }
   ],
   "source": [
    "for train_index, test_index in kf.split(X):\n",
    "    X_train, X_test = X[train_index], X[test_index]\n",
    "    y_train, y_test = y[train_index], y[test_index]\n",
    "    \n",
    "    reg = LinearRegression().fit(X_train, y_train)\n",
    "    y_ = reg.predict(X_test)\n",
    "    y_pred = reg.predict(X_train)\n",
    "    print(r2_score(y_train, y_pred),'\\t\\t\\t',r2_score(y_test, y_))\n",
    "    "
   ]
  },
  {
   "cell_type": "markdown",
   "metadata": {},
   "source": [
    "Not too shabby but still not good enough to consider. Looking for a root square mean tending towards 90% +"
   ]
  },
  {
   "cell_type": "markdown",
   "metadata": {},
   "source": [
    "### Decision Tree"
   ]
  },
  {
   "cell_type": "code",
   "execution_count": 8,
   "metadata": {},
   "outputs": [],
   "source": [
    "from sklearn import tree"
   ]
  },
  {
   "cell_type": "code",
   "execution_count": 9,
   "metadata": {},
   "outputs": [
    {
     "name": "stdout",
     "output_type": "stream",
     "text": [
      "0.30280840428005806 \t\t\t 0.28991332056435726\n",
      "0.2977427875330313 \t\t\t 0.34325349500580205\n",
      "0.29895638644631484 \t\t\t 0.32387442083540774\n",
      "0.29930723870952036 \t\t\t 0.3231160400591786\n",
      "0.3116887240457291 \t\t\t 0.2259272451045914\n",
      "0.3003877845541214 \t\t\t 0.31263654056405576\n",
      "0.3000956303056387 \t\t\t 0.31903661433538544\n",
      "0.3000174362656709 \t\t\t 0.3131616972097475\n",
      "0.3047713502684205 \t\t\t 0.26058096979405243\n",
      "0.30289722143698017 \t\t\t 0.2931287448547647\n"
     ]
    }
   ],
   "source": [
    "for train_index, test_index in kf.split(X):\n",
    "    \n",
    "    X_train, X_test = X[train_index], X[test_index]\n",
    "    y_train, y_test = y[train_index], y[test_index]\n",
    "    \n",
    "    #best hyperparameters at the time \n",
    "    clf = tree.DecisionTreeRegressor(max_depth=1, min_samples_split=2,random_state=0,max_features=5)\n",
    "    clf.fit(X_train, y_train) \n",
    "    \n",
    "    y_ = clf.predict(X_test)\n",
    "    y_pred = clf.predict(X_train)\n",
    "    print(r2_score(y_train, y_pred),'\\t\\t\\t',r2_score(y_test, y_))\n"
   ]
  },
  {
   "cell_type": "markdown",
   "metadata": {},
   "source": [
    "### Random Forest Regressor"
   ]
  },
  {
   "cell_type": "code",
   "execution_count": 10,
   "metadata": {},
   "outputs": [
    {
     "name": "stdout",
     "output_type": "stream",
     "text": [
      "0.6548989896306208 \t\t\t 0.49239490402866903\n",
      "0.6424854083199781 \t\t\t 0.6418221880045584\n",
      "0.6482937019769733 \t\t\t 0.5573463103698145\n",
      "0.6524066503628159 \t\t\t 0.5369444462872139\n",
      "0.646632523058316 \t\t\t 0.6046344000619768\n",
      "0.6452429689077896 \t\t\t 0.5905198609814173\n",
      "0.6501849316759865 \t\t\t 0.5143164743857775\n",
      "0.6381169633559127 \t\t\t 0.6677885272212037\n",
      "0.6430514023455504 \t\t\t 0.62001260671453\n",
      "0.6339897820915958 \t\t\t 0.6782411738077303\n"
     ]
    }
   ],
   "source": [
    "from sklearn.ensemble import RandomForestRegressor\n",
    "from sklearn.datasets import make_regression\n",
    "\n",
    "for train_index, test_index in kf.split(X):\n",
    "    X_train, X_test = X[train_index], X[test_index]\n",
    "    y_train, y_test = y[train_index], y[test_index]\n",
    "    \n",
    "    #best hyperparameters at the time \n",
    "    clf = RandomForestRegressor(max_depth=5, random_state=5,\n",
    "                                 n_estimators=20)\n",
    "    clf.fit(X_train, y_train) \n",
    "    \n",
    "    y_ = clf.predict(X_test)\n",
    "    y_pred = clf.predict(X_train)\n",
    "    print(r2_score(y_train, y_pred),'\\t\\t\\t',r2_score(y_test, y_))"
   ]
  },
  {
   "cell_type": "markdown",
   "metadata": {},
   "source": [
    "### KNN Regressor"
   ]
  },
  {
   "cell_type": "code",
   "execution_count": 11,
   "metadata": {},
   "outputs": [
    {
     "name": "stdout",
     "output_type": "stream",
     "text": [
      "0.6087491461358638 \t\t\t 0.5211641921133537\n",
      "0.5992003178628476 \t\t\t 0.6437306104419601\n",
      "0.6124005542697513 \t\t\t 0.5475330666519274\n",
      "0.6108453763889549 \t\t\t 0.5520677548016908\n",
      "0.61029180689553 \t\t\t 0.5201472756181433\n",
      "0.6015383945327426 \t\t\t 0.6155518180645807\n",
      "0.6115293610407047 \t\t\t 0.5119102628710788\n",
      "0.5984761285373572 \t\t\t 0.626410486912804\n",
      "0.6047370956693642 \t\t\t 0.5610422064270496\n",
      "0.5959258814044667 \t\t\t 0.6466112590348949\n"
     ]
    }
   ],
   "source": [
    "from sklearn.neighbors import KNeighborsRegressor\n",
    "\n",
    "for train_index, test_index in kf.split(X):\n",
    "    X_train, X_test = X[train_index], X[test_index]\n",
    "    y_train, y_test = y[train_index], y[test_index]\n",
    "    \n",
    "    #best hyperparameters at the time \n",
    "    neigh = KNeighborsRegressor(n_neighbors=30)\n",
    "    neigh.fit(X_train, y_train) \n",
    "    \n",
    "    y_ = neigh.predict(X_test)\n",
    "    y_pred = neigh.predict(X_train)\n",
    "    print(r2_score(y_train, y_pred),'\\t\\t\\t',r2_score(y_test, y_))"
   ]
  },
  {
   "cell_type": "markdown",
   "metadata": {},
   "source": [
    "### Stack Regressor"
   ]
  },
  {
   "cell_type": "code",
   "execution_count": 12,
   "metadata": {},
   "outputs": [
    {
     "name": "stdout",
     "output_type": "stream",
     "text": [
      "0.6540055643961727 \t\t\t 0.5167563154411885\n",
      "0.6410898282046233 \t\t\t 0.6341295715421312\n",
      "0.6459416227169585 \t\t\t 0.5432151307408599\n",
      "0.6447136309487042 \t\t\t 0.5435347762539529\n",
      "0.6489638273767002 \t\t\t 0.5233107675930804\n",
      "0.6393066120866666 \t\t\t 0.5953249493770477\n",
      "0.6470534458027584 \t\t\t 0.5109437133519633\n",
      "0.6384492250078173 \t\t\t 0.6312326499107763\n",
      "0.6403974484249698 \t\t\t 0.5685520096376315\n",
      "0.6330810084547491 \t\t\t 0.6490517916382108\n"
     ]
    }
   ],
   "source": [
    "lr = LinearRegression()\n",
    "rfr = RandomForestRegressor(max_depth=5, random_state=5,n_estimators=20)\n",
    "dtr = tree.DecisionTreeRegressor(max_depth=1, min_samples_split=2,max_features=5)\n",
    "neigh = KNeighborsRegressor(n_neighbors=30)\n",
    "stregr = StackingRegressor(regressors=[rfr, lr, neigh], \n",
    "                           meta_regressor=neigh)\n",
    "\n",
    "# Training the stacking classifier\n",
    "for train_index, test_index in kf.split(X):\n",
    "    X_train, X_test = X[train_index], X[test_index]\n",
    "    y_train, y_test = y[train_index], y[test_index]       \n",
    "    stregr.fit(X_train, y_train) \n",
    "    \n",
    "    y_ = stregr.predict(X_test)\n",
    "    y_pred = stregr.predict(X_train)\n",
    "    print(r2_score(y_train, y_pred),'\\t\\t\\t',r2_score(y_test, y_))\n",
    "\n"
   ]
  },
  {
   "cell_type": "markdown",
   "metadata": {},
   "source": [
    "Create dataframe to ease plotting to compare predicted and actual"
   ]
  },
  {
   "cell_type": "code",
   "execution_count": 13,
   "metadata": {},
   "outputs": [],
   "source": [
    "#Just get last test fold\n",
    "test_df = df.iloc[test_index]"
   ]
  },
  {
   "cell_type": "code",
   "execution_count": 14,
   "metadata": {},
   "outputs": [],
   "source": [
    "test_df['predictions'] = y_"
   ]
  },
  {
   "cell_type": "markdown",
   "metadata": {},
   "source": [
    "Extract only time,amount and predictions (ignore past amount and such)"
   ]
  },
  {
   "cell_type": "code",
   "execution_count": 15,
   "metadata": {},
   "outputs": [],
   "source": [
    "test_df = test_df[['time','amount','predictions']].set_index('time')"
   ]
  },
  {
   "cell_type": "markdown",
   "metadata": {},
   "source": [
    "Show how model predictions compare with actual values"
   ]
  },
  {
   "cell_type": "code",
   "execution_count": 16,
   "metadata": {},
   "outputs": [
    {
     "data": {
      "text/plain": [
       "<matplotlib.axes._subplots.AxesSubplot at 0x7fef4b9fc908>"
      ]
     },
     "execution_count": 16,
     "metadata": {},
     "output_type": "execute_result"
    },
    {
     "data": {
      "image/png": "[encoded data removed]",
      "text/plain": [
       "<Figure size 1368x504 with 1 Axes>"
      ]
     },
     "metadata": {
      "needs_background": "light"
     },
     "output_type": "display_data"
    }
   ],
   "source": [
    "plt.rcParams['figure.figsize']=[19,7]\n",
    "test_df.head(100).plot()"
   ]
  },
  {
   "cell_type": "markdown",
   "metadata": {},
   "source": [
    "## Anomaly Detection based on period between transactions of each account"
   ]
  },
  {
   "cell_type": "markdown",
   "metadata": {},
   "source": [
    "Based on the fact that some accounts were seen transacting about 10 times within the same hour"
   ]
  },
  {
   "cell_type": "markdown",
   "metadata": {},
   "source": [
    "Get the dataset"
   ]
  },
  {
   "cell_type": "code",
   "execution_count": 17,
   "metadata": {},
   "outputs": [],
   "source": [
    "successfulVends_raw = pd.read_csv(\"successfulVENDS2019.csv\")\n",
    "deposit_raw = pd.read_csv(\"deposit2019.csv\")\n",
    "loan_raw = pd.read_csv(\"loan2019.csv\")"
   ]
  },
  {
   "cell_type": "markdown",
   "metadata": {},
   "source": [
    "Just renaming for uniformity in names"
   ]
  },
  {
   "cell_type": "code",
   "execution_count": 18,
   "metadata": {},
   "outputs": [],
   "source": [
    "deposit_raw= deposit_raw.rename(index=str,columns={\"transamount\":\"amount\",\"systemtranstime\":\"time\"})\n",
    "deposit_raw['time'] = pd.to_datetime(deposit_raw.time)"
   ]
  },
  {
   "cell_type": "markdown",
   "metadata": {},
   "source": [
    "Only get the timestamps, amounts and account numbers"
   ]
  },
  {
   "cell_type": "code",
   "execution_count": null,
   "metadata": {},
   "outputs": [],
   "source": [
    "deposit= deposit_raw[['billrefnumber','time','amount']]\n",
    "#group by accounts \n",
    "deposit = deposit.groupby(['billrefnumber','time']).sum()"
   ]
  },
  {
   "cell_type": "markdown",
   "metadata": {},
   "source": [
    "Groupby returns two indexes; Time is treated as one of them and cannot be used as a column hence reset"
   ]
  },
  {
   "cell_type": "code",
   "execution_count": null,
   "metadata": {},
   "outputs": [],
   "source": [
    "deposit['time'] = deposit.reset_index(level=1).time.values"
   ]
  },
  {
   "cell_type": "markdown",
   "metadata": {},
   "source": [
    "Get the timedelta (difference) between last transaction of that account\n",
    "Get the median amount of that account"
   ]
  },
  {
   "cell_type": "code",
   "execution_count": null,
   "metadata": {},
   "outputs": [],
   "source": [
    "delta = []\n",
    "median_amount = []\n",
    "for idx in deposit.index.levels[0]:\n",
    "    \n",
    "    delta.append( deposit.ix[idx].time.diff())\n",
    "    median_amount.append(np.median(deposit.ix[idx].amount.values))\n",
    "  "
   ]
  },
  {
   "cell_type": "markdown",
   "metadata": {},
   "source": [
    "Get time delta as numeric and add to dataframe"
   ]
  },
  {
   "cell_type": "code",
   "execution_count": null,
   "metadata": {},
   "outputs": [],
   "source": [
    "from datetime import timedelta"
   ]
  },
  {
   "cell_type": "code",
   "execution_count": null,
   "metadata": {},
   "outputs": [],
   "source": [
    "d = [item/timedelta(days=1) for delt in delta for item in delt]"
   ]
  },
  {
   "cell_type": "code",
   "execution_count": null,
   "metadata": {},
   "outputs": [],
   "source": [
    "deposit['delta']=d\n"
   ]
  },
  {
   "cell_type": "markdown",
   "metadata": {},
   "source": [
    "Get the median timedelta"
   ]
  },
  {
   "cell_type": "code",
   "execution_count": null,
   "metadata": {
    "scrolled": true
   },
   "outputs": [],
   "source": [
    "median_delta = []\n",
    "dep = deposit.dropna(axis=0)\n",
    "for idx in dep.index.levels[0]:\n",
    "    \n",
    "    \n",
    "    median_delta.append(np.median(dep.ix[idx].delta.values))"
   ]
  },
  {
   "cell_type": "markdown",
   "metadata": {},
   "source": [
    "Create dataframe to plot easily"
   ]
  },
  {
   "cell_type": "code",
   "execution_count": null,
   "metadata": {},
   "outputs": [],
   "source": [
    "d = {'billrefnumber':deposit.index.levels[0] , 'median_delta': median_delta,'median_amount':median_amount}\n",
    "depo = pd.DataFrame(data=d).dropna()"
   ]
  },
  {
   "cell_type": "markdown",
   "metadata": {},
   "source": [
    "Visualize medians of time deltas and amount of each account"
   ]
  },
  {
   "cell_type": "code",
   "execution_count": null,
   "metadata": {},
   "outputs": [],
   "source": [
    "depo.drop(columns='billrefnumber').plot(x='frequency',y='median',kind='scatter')"
   ]
  },
  {
   "cell_type": "markdown",
   "metadata": {},
   "source": [
    "Get dataset"
   ]
  },
  {
   "cell_type": "code",
   "execution_count": null,
   "metadata": {},
   "outputs": [],
   "source": [
    "deposit_raw = pd.read_csv(\"deposit2019.csv\")"
   ]
  },
  {
   "cell_type": "markdown",
   "metadata": {},
   "source": [
    "Rename columns for uniformity"
   ]
  },
  {
   "cell_type": "code",
   "execution_count": null,
   "metadata": {},
   "outputs": [],
   "source": [
    "deposit_raw= deposit_raw.rename(index=str,columns={\"transamount\":\"amount\",\"systemtranstime\":\"time\"})"
   ]
  },
  {
   "cell_type": "markdown",
   "metadata": {},
   "source": [
    "Extract account number,timestamp and amount"
   ]
  },
  {
   "cell_type": "code",
   "execution_count": null,
   "metadata": {},
   "outputs": [],
   "source": [
    "deposit = deposit_raw[[\"billrefnumber\",\"time\",\"amount\"]]"
   ]
  },
  {
   "cell_type": "markdown",
   "metadata": {},
   "source": [
    "Convert to datetime type"
   ]
  },
  {
   "cell_type": "code",
   "execution_count": null,
   "metadata": {},
   "outputs": [],
   "source": [
    "deposit['time']=pd.to_datetime(deposit.time)"
   ]
  },
  {
   "cell_type": "markdown",
   "metadata": {},
   "source": [
    "Group by account numbers"
   ]
  },
  {
   "cell_type": "code",
   "execution_count": null,
   "metadata": {},
   "outputs": [],
   "source": [
    "deposit = deposit.groupby(['billrefnumber','time']).sum()"
   ]
  },
  {
   "cell_type": "markdown",
   "metadata": {},
   "source": [
    "Reset index to have time as a column since group by sets it as an index"
   ]
  },
  {
   "cell_type": "code",
   "execution_count": null,
   "metadata": {},
   "outputs": [],
   "source": [
    "deposit['time'] = deposit.reset_index(level=1).time.values"
   ]
  },
  {
   "cell_type": "markdown",
   "metadata": {},
   "source": [
    "Get the time deltas"
   ]
  },
  {
   "cell_type": "code",
   "execution_count": null,
   "metadata": {},
   "outputs": [],
   "source": [
    "delta = []\n",
    "\n",
    "for idx in deposit.index.levels[0]:\n",
    "    \n",
    "    delta.append( deposit.ix[idx].time.diff())"
   ]
  },
  {
   "cell_type": "markdown",
   "metadata": {},
   "source": [
    "Get delta as a numeric"
   ]
  },
  {
   "cell_type": "code",
   "execution_count": null,
   "metadata": {},
   "outputs": [],
   "source": [
    "from datetime import timedelta\n",
    "\n",
    "d = [item/timedelta(days=1) for delt in delta for item in delt]\n",
    "\n",
    "deposit['delta']=d"
   ]
  },
  {
   "cell_type": "markdown",
   "metadata": {},
   "source": [
    "Repeat groupby to dropna() (I dont understand why it doesnt drop properly)"
   ]
  },
  {
   "cell_type": "code",
   "execution_count": null,
   "metadata": {},
   "outputs": [],
   "source": [
    "deposit.dropna(how='any',inplace=True)\n",
    "deposit = deposit.groupby(['billrefnumber','time']).sum()\n",
    "deposit['time'] = deposit.reset_index(level=1).time.values"
   ]
  },
  {
   "cell_type": "markdown",
   "metadata": {},
   "source": [
    "Trying to check if we can get anomalies based on time deltas; using mean,minimum and maximum as features"
   ]
  },
  {
   "cell_type": "markdown",
   "metadata": {},
   "source": [
    "Extract those features"
   ]
  },
  {
   "cell_type": "code",
   "execution_count": null,
   "metadata": {},
   "outputs": [],
   "source": [
    "median = []\n",
    "minimum = []\n",
    "maximum = []\n",
    "\n",
    "\n",
    "for idx in deposit.index.levels[0]:\n",
    "    \n",
    "    minimum.append( deposit.ix[idx].delta.min())\n",
    "    maximum.append( deposit.ix[idx].delta.max())\n",
    "    median.append( deposit.ix[idx].delta.mean())"
   ]
  },
  {
   "cell_type": "markdown",
   "metadata": {},
   "source": [
    "Create dataframe for those features with account numbers as index"
   ]
  },
  {
   "cell_type": "code",
   "execution_count": null,
   "metadata": {},
   "outputs": [],
   "source": [
    "deposit_central = pd.DataFrame(index= deposit.index.levels[0],data={'median':median,'maximum':maximum,'minimum':minimum})"
   ]
  },
  {
   "cell_type": "markdown",
   "metadata": {},
   "source": [
    "Get matrix of those features"
   ]
  },
  {
   "cell_type": "code",
   "execution_count": null,
   "metadata": {},
   "outputs": [],
   "source": [
    "X = deposit_central.values"
   ]
  },
  {
   "cell_type": "markdown",
   "metadata": {},
   "source": [
    "Get clusters based on the features using K-Means"
   ]
  },
  {
   "cell_type": "code",
   "execution_count": null,
   "metadata": {},
   "outputs": [],
   "source": [
    "from sklearn.cluster import KMeans"
   ]
  },
  {
   "cell_type": "markdown",
   "metadata": {},
   "source": [
    "First identify suitable number of clusters using elbow method"
   ]
  },
  {
   "cell_type": "code",
   "execution_count": null,
   "metadata": {},
   "outputs": [],
   "source": [
    "#Get the errors for up to 7 clusters (no reason for 7 specifically)\n",
    "Sum_of_squared_distances = []\n",
    "K = range(1,7)\n",
    "for k in K:\n",
    "    km = KMeans(n_clusters=k)\n",
    "    km = km.fit(X)\n",
    "    Sum_of_squared_distances.append(km.inertia_)"
   ]
  },
  {
   "cell_type": "markdown",
   "metadata": {},
   "source": [
    "Visualize to get the right elbow point so as to get appropriate number of clusters"
   ]
  },
  {
   "cell_type": "code",
   "execution_count": null,
   "metadata": {},
   "outputs": [],
   "source": [
    "plt.plot(K, Sum_of_squared_distances, 'bx-')\n",
    "plt.xlabel('k')\n",
    "plt.ylabel('Sum_of_squared_distances')\n",
    "plt.title('Elbow Method For Optimal k')\n",
    "plt.show()"
   ]
  },
  {
   "cell_type": "markdown",
   "metadata": {},
   "source": [
    "Get 3d plot modules"
   ]
  },
  {
   "cell_type": "code",
   "execution_count": null,
   "metadata": {},
   "outputs": [],
   "source": [
    "import matplotlib.pyplot as plt\n",
    "from mpl_toolkits.mplot3d import axes3d, Axes3D"
   ]
  },
  {
   "cell_type": "markdown",
   "metadata": {},
   "source": [
    "Scatter plot for the features "
   ]
  },
  {
   "cell_type": "code",
   "execution_count": null,
   "metadata": {},
   "outputs": [],
   "source": [
    "plt.rcParams['figure.figsize']=[15,10]\n",
    "fig = plt.figure()\n",
    "ax = fig.add_subplot(111, projection='3d')\n",
    "ax.scatter(deposit_central['median'].values, deposit_central.maximum.values, deposit_central.minimum.values)\n"
   ]
  },
  {
   "cell_type": "markdown",
   "metadata": {},
   "source": [
    "Use scatter plot for two features"
   ]
  },
  {
   "cell_type": "code",
   "execution_count": null,
   "metadata": {},
   "outputs": [],
   "source": [
    "deposit_central.plot(kind='scatter',x='maximum',y='minimum')"
   ]
  },
  {
   "cell_type": "code",
   "execution_count": null,
   "metadata": {},
   "outputs": [],
   "source": []
  }
 ],
 "metadata": {
  "kernelspec": {
   "display_name": "Python 3",
   "language": "python",
   "name": "python3"
  },
  "language_info": {
   "codemirror_mode": {
    "name": "ipython",
    "version": 3
   },
   "file_extension": ".py",
   "mimetype": "text/x-python",
   "name": "python",
   "nbconvert_exporter": "python",
   "pygments_lexer": "ipython3",
   "version": "3.6.7"
  }
 },
 "nbformat": 4,
 "nbformat_minor": 2
}
