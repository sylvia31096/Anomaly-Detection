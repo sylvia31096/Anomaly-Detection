{
 "cells": [
  {
   "cell_type": "code",
   "execution_count": 83,
   "metadata": {},
   "outputs": [],
   "source": [
    "import pandas as pd\n",
    "from matplotlib import pyplot as plt\n",
    "from fbprophet import Prophet\n",
    "from datetime import datetime\n",
    "from sklearn import preprocessing\n",
    "import numpy as np\n",
    "import seaborn as sns\n",
    "import warnings\n",
    "warnings.filterwarnings('ignore')\n",
    "from sklearn.linear_model import LinearRegression\n",
    "from sklearn.model_selection import KFold,GridSearchCV\n",
    "from sklearn.metrics import r2_score\n",
    "from sklearn import preprocessing\n",
    "from mlxtend.regressor import StackingRegressor\n",
    "%matplotlib inline "
   ]
  },
  {
   "cell_type": "code",
   "execution_count": 84,
   "metadata": {},
   "outputs": [],
   "source": [
    "df = pd.read_csv(\"deposit_new.csv\")"
   ]
  },
  {
   "cell_type": "code",
   "execution_count": 85,
   "metadata": {},
   "outputs": [],
   "source": [
    "df = df.drop(df.columns[0],axis=1)"
   ]
  },
  {
   "cell_type": "code",
   "execution_count": 86,
   "metadata": {},
   "outputs": [],
   "source": [
    "X = df.drop(columns = ['amount','time']).values"
   ]
  },
  {
   "cell_type": "code",
   "execution_count": 87,
   "metadata": {},
   "outputs": [],
   "source": [
    "y = df.amount.values"
   ]
  },
  {
   "cell_type": "code",
   "execution_count": 88,
   "metadata": {},
   "outputs": [
    {
     "data": {
      "text/plain": [
       "array([ 100.,  300.,  300., ...,  200.,  300.,  100.])"
      ]
     },
     "execution_count": 88,
     "metadata": {},
     "output_type": "execute_result"
    }
   ],
   "source": [
    "df.amount.values"
   ]
  },
  {
   "cell_type": "code",
   "execution_count": 89,
   "metadata": {},
   "outputs": [
    {
     "data": {
      "text/plain": [
       "array([ 100.,  300.,  300., ...,  200.,  300.,  100.])"
      ]
     },
     "execution_count": 89,
     "metadata": {},
     "output_type": "execute_result"
    }
   ],
   "source": [
    "y"
   ]
  },
  {
   "cell_type": "markdown",
   "metadata": {},
   "source": [
    "Create k folds for cross validation"
   ]
  },
  {
   "cell_type": "code",
   "execution_count": 90,
   "metadata": {},
   "outputs": [],
   "source": [
    "kf = KFold(n_splits=10)"
   ]
  },
  {
   "cell_type": "markdown",
   "metadata": {},
   "source": [
    "### Linear Regression"
   ]
  },
  {
   "cell_type": "markdown",
   "metadata": {},
   "source": [
    "Train the dataset and print r2 score"
   ]
  },
  {
   "cell_type": "code",
   "execution_count": 91,
   "metadata": {},
   "outputs": [
    {
     "name": "stdout",
     "output_type": "stream",
     "text": [
      "0.610285069946 \t\t\t 0.502808958477\n",
      "0.595028830774 \t\t\t 0.664846204087\n",
      "0.609952144117 \t\t\t 0.525264308485\n",
      "0.607700317379 \t\t\t 0.544920745108\n",
      "0.601595366648 \t\t\t 0.598234243458\n",
      "0.597510894497 \t\t\t 0.629251710346\n",
      "0.608952104114 \t\t\t 0.520206138186\n",
      "0.591679586289 \t\t\t 0.685001156767\n",
      "0.599835396991 \t\t\t 0.616960964315\n",
      "0.589860653922 \t\t\t 0.683298441197\n"
     ]
    }
   ],
   "source": [
    "for train_index, test_index in kf.split(X):\n",
    "    X_train, X_test = X[train_index], X[test_index]\n",
    "    y_train, y_test = y[train_index], y[test_index]\n",
    "    \n",
    "    reg = LinearRegression().fit(X_train, y_train)\n",
    "    y_ = reg.predict(X_test)\n",
    "    y_pred = reg.predict(X_train)\n",
    "    print(r2_score(y_train, y_pred),'\\t\\t\\t',r2_score(y_test, y_))\n",
    "    "
   ]
  },
  {
   "cell_type": "markdown",
   "metadata": {},
   "source": [
    "Not too shabby but still not good enough to consider. Looking for a root square mean tending towards 90% +"
   ]
  },
  {
   "cell_type": "markdown",
   "metadata": {},
   "source": [
    "### Decision Tree"
   ]
  },
  {
   "cell_type": "code",
   "execution_count": 92,
   "metadata": {},
   "outputs": [],
   "source": [
    "from sklearn import tree"
   ]
  },
  {
   "cell_type": "code",
   "execution_count": 93,
   "metadata": {},
   "outputs": [
    {
     "name": "stdout",
     "output_type": "stream",
     "text": [
      "0.30280840428 \t\t\t 0.289913320564\n",
      "0.297742787533 \t\t\t 0.343253495006\n",
      "0.298956386446 \t\t\t 0.323874420835\n",
      "0.29930723871 \t\t\t 0.323116040059\n",
      "0.311688724046 \t\t\t 0.225927245105\n",
      "0.300387784554 \t\t\t 0.312636540564\n",
      "0.300095630306 \t\t\t 0.319036614335\n",
      "0.300017436266 \t\t\t 0.31316169721\n",
      "0.304771350268 \t\t\t 0.260580969794\n",
      "0.302897221437 \t\t\t 0.293128744855\n"
     ]
    }
   ],
   "source": [
    "for train_index, test_index in kf.split(X):\n",
    "    X_train, X_test = X[train_index], X[test_index]\n",
    "    y_train, y_test = y[train_index], y[test_index]\n",
    "    \n",
    "    clf = tree.DecisionTreeRegressor(max_depth=1, min_samples_split=2,random_state=0,max_features=5)\n",
    "    clf.fit(X_train, y_train) \n",
    "    \n",
    "    y_ = clf.predict(X_test)\n",
    "    y_pred = clf.predict(X_train)\n",
    "    print(r2_score(y_train, y_pred),'\\t\\t\\t',r2_score(y_test, y_))\n"
   ]
  },
  {
   "cell_type": "markdown",
   "metadata": {},
   "source": [
    "### Random Forest Regressor"
   ]
  },
  {
   "cell_type": "code",
   "execution_count": 97,
   "metadata": {},
   "outputs": [
    {
     "name": "stdout",
     "output_type": "stream",
     "text": [
      "0.654898989631 \t\t\t 0.492394904029\n",
      "0.64248540832 \t\t\t 0.641822188005\n",
      "0.648293701977 \t\t\t 0.55734631037\n",
      "0.652406650363 \t\t\t 0.536944446287\n",
      "0.646632523058 \t\t\t 0.604634400062\n",
      "0.645242968908 \t\t\t 0.590519860981\n",
      "0.650184931676 \t\t\t 0.514316474386\n",
      "0.638116963356 \t\t\t 0.667788527221\n",
      "0.643051402346 \t\t\t 0.620012606715\n",
      "0.633989782092 \t\t\t 0.678241173808\n"
     ]
    }
   ],
   "source": [
    "from sklearn.ensemble import RandomForestRegressor\n",
    "from sklearn.datasets import make_regression\n",
    "\n",
    "for train_index, test_index in kf.split(X):\n",
    "    X_train, X_test = X[train_index], X[test_index]\n",
    "    y_train, y_test = y[train_index], y[test_index]\n",
    "    \n",
    "    clf = RandomForestRegressor(max_depth=5, random_state=5,\n",
    "                                 n_estimators=20)\n",
    "    clf.fit(X_train, y_train) \n",
    "    \n",
    "    y_ = clf.predict(X_test)\n",
    "    y_pred = clf.predict(X_train)\n",
    "    print(r2_score(y_train, y_pred),'\\t\\t\\t',r2_score(y_test, y_))"
   ]
  },
  {
   "cell_type": "markdown",
   "metadata": {},
   "source": [
    "### KNN Regressor"
   ]
  },
  {
   "cell_type": "code",
   "execution_count": 98,
   "metadata": {},
   "outputs": [
    {
     "name": "stdout",
     "output_type": "stream",
     "text": [
      "0.608749146136 \t\t\t 0.521164192113\n",
      "0.599200317863 \t\t\t 0.643730610442\n",
      "0.61240055427 \t\t\t 0.547533066652\n",
      "0.610845376389 \t\t\t 0.552067754802\n",
      "0.610291806896 \t\t\t 0.520147275618\n",
      "0.601538394533 \t\t\t 0.615551818065\n",
      "0.611529361041 \t\t\t 0.511910262871\n",
      "0.598476128537 \t\t\t 0.626410486913\n",
      "0.604737095669 \t\t\t 0.561042206427\n",
      "0.595925881404 \t\t\t 0.646611259035\n"
     ]
    }
   ],
   "source": [
    "from sklearn.neighbors import KNeighborsRegressor\n",
    "\n",
    "for train_index, test_index in kf.split(X):\n",
    "    X_train, X_test = X[train_index], X[test_index]\n",
    "    y_train, y_test = y[train_index], y[test_index]\n",
    "    \n",
    "    neigh = KNeighborsRegressor(n_neighbors=30)\n",
    "    neigh.fit(X_train, y_train) \n",
    "    \n",
    "    y_ = neigh.predict(X_test)\n",
    "    y_pred = neigh.predict(X_train)\n",
    "    print(r2_score(y_train, y_pred),'\\t\\t\\t',r2_score(y_test, y_))"
   ]
  },
  {
   "cell_type": "markdown",
   "metadata": {},
   "source": [
    "### Stack Regressor"
   ]
  },
  {
   "cell_type": "code",
   "execution_count": 99,
   "metadata": {},
   "outputs": [
    {
     "name": "stdout",
     "output_type": "stream",
     "text": [
      "0.654005564396 \t\t\t 0.516756315441\n",
      "0.641089828205 \t\t\t 0.634129571542\n",
      "0.645941622717 \t\t\t 0.543215130741\n",
      "0.644713630949 \t\t\t 0.543534776254\n",
      "0.648963827377 \t\t\t 0.523310767593\n",
      "0.639306612087 \t\t\t 0.595324949377\n",
      "0.647053445803 \t\t\t 0.510943713352\n",
      "0.638449225008 \t\t\t 0.631232649911\n",
      "0.640397448425 \t\t\t 0.568552009638\n",
      "0.633081008455 \t\t\t 0.649051791638\n"
     ]
    }
   ],
   "source": [
    "lr = LinearRegression()\n",
    "rfr = RandomForestRegressor(max_depth=5, random_state=5,n_estimators=20)\n",
    "dtr = tree.DecisionTreeRegressor(max_depth=1, min_samples_split=2,max_features=5)\n",
    "neigh = KNeighborsRegressor(n_neighbors=30)\n",
    "stregr = StackingRegressor(regressors=[rfr, lr, neigh], \n",
    "                           meta_regressor=neigh)\n",
    "\n",
    "# Training the stacking classifier\n",
    "for train_index, test_index in kf.split(X):\n",
    "    X_train, X_test = X[train_index], X[test_index]\n",
    "    y_train, y_test = y[train_index], y[test_index]       \n",
    "    stregr.fit(X_train, y_train) \n",
    "    \n",
    "    y_ = stregr.predict(X_test)\n",
    "    y_pred = stregr.predict(X_train)\n",
    "    print(r2_score(y_train, y_pred),'\\t\\t\\t',r2_score(y_test, y_))\n",
    "\n"
   ]
  },
  {
   "cell_type": "code",
   "execution_count": null,
   "metadata": {},
   "outputs": [],
   "source": []
  }
 ],
 "metadata": {
  "kernelspec": {
   "display_name": "Python 3",
   "language": "python",
   "name": "python3"
  },
  "language_info": {
   "codemirror_mode": {
    "name": "ipython",
    "version": 3
   },
   "file_extension": ".py",
   "mimetype": "text/x-python",
   "name": "python",
   "nbconvert_exporter": "python",
   "pygments_lexer": "ipython3",
   "version": "3.6.7"
  }
 },
 "nbformat": 4,
 "nbformat_minor": 2
}
